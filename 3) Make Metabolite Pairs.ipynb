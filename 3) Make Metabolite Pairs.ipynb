{
 "cells": [
  {
   "cell_type": "code",
   "execution_count": 1,
   "id": "3cfc1a2f-68a6-45e6-ab48-27c7a3015fd0",
   "metadata": {},
   "outputs": [
    {
     "ename": "KeyboardInterrupt",
     "evalue": "",
     "output_type": "error",
     "traceback": [
      "\u001b[0;31m---------------------------------------------------------------------------\u001b[0m",
      "\u001b[0;31mKeyboardInterrupt\u001b[0m                         Traceback (most recent call last)",
      "Cell \u001b[0;32mIn[1], line 53\u001b[0m\n\u001b[1;32m     48\u001b[0m         writer\u001b[38;5;241m.\u001b[39mwriterows(results)\n\u001b[1;32m     50\u001b[0m     \u001b[38;5;28mprint\u001b[39m(\u001b[38;5;124mf\u001b[39m\u001b[38;5;124m\"\u001b[39m\u001b[38;5;124mSaved \u001b[39m\u001b[38;5;132;01m{\u001b[39;00moutput_file\u001b[38;5;132;01m}\u001b[39;00m\u001b[38;5;124m with \u001b[39m\u001b[38;5;132;01m{\u001b[39;00m\u001b[38;5;28mlen\u001b[39m(results)\u001b[38;5;132;01m}\u001b[39;00m\u001b[38;5;124m metabolite pairs.\u001b[39m\u001b[38;5;124m\"\u001b[39m)\n\u001b[0;32m---> 53\u001b[0m metabolite(\u001b[38;5;124m\"\u001b[39m\u001b[38;5;124m2. Filter_CTRL/csf_VECPAC_CTRL_filtered.csv\u001b[39m\u001b[38;5;124m\"\u001b[39m)\n\u001b[1;32m     54\u001b[0m metabolite(\u001b[38;5;124m\"\u001b[39m\u001b[38;5;124m2. Filter_CTRL/pls_VECPAC_CTRL_filtered.csv\u001b[39m\u001b[38;5;124m\"\u001b[39m)\n\u001b[1;32m     55\u001b[0m metabolite(\u001b[38;5;124m\"\u001b[39m\u001b[38;5;124m2. Filter_CTRL/feci_VECPAC_CTRL_filtered.csv\u001b[39m\u001b[38;5;124m\"\u001b[39m)\n",
      "Cell \u001b[0;32mIn[1], line 32\u001b[0m, in \u001b[0;36mmetabolite\u001b[0;34m(file_name)\u001b[0m\n\u001b[1;32m     29\u001b[0m row2 \u001b[38;5;241m=\u001b[39m list2\u001b[38;5;241m.\u001b[39mastype(\u001b[38;5;28mfloat\u001b[39m)\u001b[38;5;241m.\u001b[39mvalues\u001b[38;5;241m.\u001b[39mflatten()\u001b[38;5;241m.\u001b[39mtolist()\n\u001b[1;32m     31\u001b[0m \u001b[38;5;66;03m# Calculate Spearman correlation\u001b[39;00m\n\u001b[0;32m---> 32\u001b[0m corr, pval \u001b[38;5;241m=\u001b[39m stats\u001b[38;5;241m.\u001b[39mspearmanr(row1, row2)\n\u001b[1;32m     34\u001b[0m \u001b[38;5;66;03m# Append metabolite names + correlation + p-value\u001b[39;00m\n\u001b[1;32m     35\u001b[0m results\u001b[38;5;241m.\u001b[39mappend((met1, met2, corr, pval))\n",
      "File \u001b[0;32m/opt/anaconda3/lib/python3.12/site-packages/scipy/stats/_stats_py.py:5422\u001b[0m, in \u001b[0;36mspearmanr\u001b[0;34m(a, b, axis, nan_policy, alternative)\u001b[0m\n\u001b[1;32m   5417\u001b[0m         \u001b[38;5;28;01melse\u001b[39;00m:\n\u001b[1;32m   5418\u001b[0m             \u001b[38;5;66;03m# Keep track of variables with NaNs, set the outputs to NaN\u001b[39;00m\n\u001b[1;32m   5419\u001b[0m             \u001b[38;5;66;03m# only for those variables\u001b[39;00m\n\u001b[1;32m   5420\u001b[0m             variable_has_nan \u001b[38;5;241m=\u001b[39m np\u001b[38;5;241m.\u001b[39misnan(a)\u001b[38;5;241m.\u001b[39many(axis\u001b[38;5;241m=\u001b[39maxisout)\n\u001b[0;32m-> 5422\u001b[0m a_ranked \u001b[38;5;241m=\u001b[39m np\u001b[38;5;241m.\u001b[39mapply_along_axis(rankdata, axisout, a)\n\u001b[1;32m   5423\u001b[0m rs \u001b[38;5;241m=\u001b[39m np\u001b[38;5;241m.\u001b[39mcorrcoef(a_ranked, rowvar\u001b[38;5;241m=\u001b[39maxisout)\n\u001b[1;32m   5424\u001b[0m dof \u001b[38;5;241m=\u001b[39m n_obs \u001b[38;5;241m-\u001b[39m \u001b[38;5;241m2\u001b[39m  \u001b[38;5;66;03m# degrees of freedom\u001b[39;00m\n",
      "File \u001b[0;32m/opt/anaconda3/lib/python3.12/site-packages/numpy/lib/shape_base.py:379\u001b[0m, in \u001b[0;36mapply_along_axis\u001b[0;34m(func1d, axis, arr, *args, **kwargs)\u001b[0m\n\u001b[1;32m    375\u001b[0m \u001b[38;5;28;01mexcept\u001b[39;00m \u001b[38;5;167;01mStopIteration\u001b[39;00m:\n\u001b[1;32m    376\u001b[0m     \u001b[38;5;28;01mraise\u001b[39;00m \u001b[38;5;167;01mValueError\u001b[39;00m(\n\u001b[1;32m    377\u001b[0m         \u001b[38;5;124m'\u001b[39m\u001b[38;5;124mCannot apply_along_axis when any iteration dimensions are 0\u001b[39m\u001b[38;5;124m'\u001b[39m\n\u001b[1;32m    378\u001b[0m     ) \u001b[38;5;28;01mfrom\u001b[39;00m \u001b[38;5;28;01mNone\u001b[39;00m\n\u001b[0;32m--> 379\u001b[0m res \u001b[38;5;241m=\u001b[39m asanyarray(func1d(inarr_view[ind0], \u001b[38;5;241m*\u001b[39margs, \u001b[38;5;241m*\u001b[39m\u001b[38;5;241m*\u001b[39mkwargs))\n\u001b[1;32m    381\u001b[0m \u001b[38;5;66;03m# build a buffer for storing evaluations of func1d.\u001b[39;00m\n\u001b[1;32m    382\u001b[0m \u001b[38;5;66;03m# remove the requested axis, and add the new ones on the end.\u001b[39;00m\n\u001b[1;32m    383\u001b[0m \u001b[38;5;66;03m# laid out so that each write is contiguous.\u001b[39;00m\n\u001b[1;32m    384\u001b[0m \u001b[38;5;66;03m# for a tuple index inds, buff[inds] = func1d(inarr_view[inds])\u001b[39;00m\n\u001b[1;32m    385\u001b[0m buff \u001b[38;5;241m=\u001b[39m zeros(inarr_view\u001b[38;5;241m.\u001b[39mshape[:\u001b[38;5;241m-\u001b[39m\u001b[38;5;241m1\u001b[39m] \u001b[38;5;241m+\u001b[39m res\u001b[38;5;241m.\u001b[39mshape, res\u001b[38;5;241m.\u001b[39mdtype)\n",
      "File \u001b[0;32m/opt/anaconda3/lib/python3.12/site-packages/scipy/stats/_stats_py.py:10851\u001b[0m, in \u001b[0;36mrankdata\u001b[0;34m(a, method, axis, nan_policy)\u001b[0m\n\u001b[1;32m  10848\u001b[0m contains_nan, nan_policy \u001b[38;5;241m=\u001b[39m _contains_nan(x, nan_policy)\n\u001b[1;32m  10850\u001b[0m x \u001b[38;5;241m=\u001b[39m np\u001b[38;5;241m.\u001b[39mswapaxes(x, axis, \u001b[38;5;241m-\u001b[39m\u001b[38;5;241m1\u001b[39m)\n\u001b[0;32m> 10851\u001b[0m ranks \u001b[38;5;241m=\u001b[39m _rankdata(x, method)\n\u001b[1;32m  10853\u001b[0m \u001b[38;5;28;01mif\u001b[39;00m contains_nan:\n\u001b[1;32m  10854\u001b[0m     i_nan \u001b[38;5;241m=\u001b[39m (np\u001b[38;5;241m.\u001b[39misnan(x) \u001b[38;5;28;01mif\u001b[39;00m nan_policy \u001b[38;5;241m==\u001b[39m \u001b[38;5;124m'\u001b[39m\u001b[38;5;124momit\u001b[39m\u001b[38;5;124m'\u001b[39m\n\u001b[1;32m  10855\u001b[0m              \u001b[38;5;28;01melse\u001b[39;00m np\u001b[38;5;241m.\u001b[39misnan(x)\u001b[38;5;241m.\u001b[39many(axis\u001b[38;5;241m=\u001b[39m\u001b[38;5;241m-\u001b[39m\u001b[38;5;241m1\u001b[39m))\n",
      "File \u001b[0;32m/opt/anaconda3/lib/python3.12/site-packages/scipy/stats/_stats_py.py:10892\u001b[0m, in \u001b[0;36m_rankdata\u001b[0;34m(x, method, return_ties)\u001b[0m\n\u001b[1;32m  10890\u001b[0m indices \u001b[38;5;241m=\u001b[39m np\u001b[38;5;241m.\u001b[39marange(y\u001b[38;5;241m.\u001b[39msize)[i\u001b[38;5;241m.\u001b[39mravel()]\n\u001b[1;32m  10891\u001b[0m \u001b[38;5;66;03m# Counts of unique elements\u001b[39;00m\n\u001b[0;32m> 10892\u001b[0m counts \u001b[38;5;241m=\u001b[39m np\u001b[38;5;241m.\u001b[39mdiff(indices, append\u001b[38;5;241m=\u001b[39my\u001b[38;5;241m.\u001b[39msize)\n\u001b[1;32m  10894\u001b[0m \u001b[38;5;66;03m# Compute `'min'`, `'max'`, and `'mid'` ranks of unique elements\u001b[39;00m\n\u001b[1;32m  10895\u001b[0m \u001b[38;5;28;01mif\u001b[39;00m method \u001b[38;5;241m==\u001b[39m \u001b[38;5;124m'\u001b[39m\u001b[38;5;124mmin\u001b[39m\u001b[38;5;124m'\u001b[39m:\n",
      "File \u001b[0;32m/opt/anaconda3/lib/python3.12/site-packages/numpy/lib/function_base.py:1441\u001b[0m, in \u001b[0;36mdiff\u001b[0;34m(a, n, axis, prepend, append)\u001b[0m\n\u001b[1;32m   1438\u001b[0m     combined\u001b[38;5;241m.\u001b[39mappend(append)\n\u001b[1;32m   1440\u001b[0m \u001b[38;5;28;01mif\u001b[39;00m \u001b[38;5;28mlen\u001b[39m(combined) \u001b[38;5;241m>\u001b[39m \u001b[38;5;241m1\u001b[39m:\n\u001b[0;32m-> 1441\u001b[0m     a \u001b[38;5;241m=\u001b[39m np\u001b[38;5;241m.\u001b[39mconcatenate(combined, axis)\n\u001b[1;32m   1443\u001b[0m slice1 \u001b[38;5;241m=\u001b[39m [\u001b[38;5;28mslice\u001b[39m(\u001b[38;5;28;01mNone\u001b[39;00m)] \u001b[38;5;241m*\u001b[39m nd\n\u001b[1;32m   1444\u001b[0m slice2 \u001b[38;5;241m=\u001b[39m [\u001b[38;5;28mslice\u001b[39m(\u001b[38;5;28;01mNone\u001b[39;00m)] \u001b[38;5;241m*\u001b[39m nd\n",
      "\u001b[0;31mKeyboardInterrupt\u001b[0m: "
     ]
    }
   ],
   "source": [
    "import os\n",
    "import pandas as pd\n",
    "import itertools\n",
    "import csv\n",
    "from scipy import stats\n",
    "\n",
    "def metabolite(file_name):\n",
    "    # Read data\n",
    "    filtered_data = pd.read_csv(file_name, header=None)\n",
    "    \n",
    "    # Extract metabolite names. Skip the first 2 rows (headers + Sample IDs)\n",
    "    names = filtered_data.iloc[2:, 0].tolist()\n",
    "        \n",
    "    # Generate all 2-element combinations\n",
    "    pairs = list(itertools.combinations(names, 2))\n",
    "    results = []\n",
    "    \n",
    "    for met1, met2 in pairs:           \n",
    "        # Find the row where the first column = met1\n",
    "        l1 = filtered_data[filtered_data.iloc[:, 0] == met1]\n",
    "        list1 = l1.iloc[:, 1:]\n",
    "    \n",
    "        # Find the row where the first column = met2\n",
    "        l2 = filtered_data[filtered_data.iloc[:, 0] == met2]\n",
    "        list2 = l2.iloc[:, 1:]\n",
    "             \n",
    "        # Converts to float\n",
    "        row1 = list1.astype(float).values.flatten().tolist()\n",
    "        row2 = list2.astype(float).values.flatten().tolist()\n",
    "    \n",
    "        # Calculate Spearman correlation\n",
    "        corr, pval = stats.spearmanr(row1, row2)\n",
    "            \n",
    "        # Append metabolite names + correlation + p-value\n",
    "        results.append((met1, met2, corr, pval))\n",
    "    \n",
    "    # Create output file name inside \"Metabolite Pairs\"\n",
    "    parts = os.path.basename(file_name).split(\"_\")\n",
    "    prefix = \"_\".join(parts[:2])\n",
    "\n",
    "    # Make directory\n",
    "    os.makedirs(\"3. Metabolite Pairs\", exist_ok=True)\n",
    "    output_file = os.path.join(\"3. Metabolite Pairs\", f\"COMBINATIONS_{prefix}.csv\")\n",
    "    \n",
    "    with open(output_file, \"w\", newline='', encoding=\"utf-8\") as outfile:\n",
    "        writer = csv.writer(outfile)\n",
    "        writer.writerow([\"Metabolite 1\", \"Metabolite 2\", \"Spearman Coefficient\", \"p-value\"])\n",
    "        writer.writerows(results)\n",
    "\n",
    "    print(f\"Saved {output_file} with {len(results)} metabolite pairs.\")\n",
    "\n",
    "\n",
    "metabolite(\"2. Filter_CTRL/csf_VECPAC_CTRL_filtered.csv\")\n",
    "metabolite(\"2. Filter_CTRL/pls_VECPAC_CTRL_filtered.csv\")\n",
    "metabolite(\"2. Filter_CTRL/feci_VECPAC_CTRL_filtered.csv\")\n",
    "metabolite(\"2. Filter_CTRL/csf_LPS_CTRL_filtered.csv\")\n",
    "metabolite(\"2. Filter_CTRL/pls_LPS_CTRL_filtered.csv\")\n",
    "metabolite(\"2. Filter_CTRL/feci_LPS_CTRL_filtered.csv\")\n",
    "metabolite(\"2. Filter_CTRL/csf_DSS_CTRL_filtered.csv\")\n",
    "metabolite(\"2. Filter_CTRL/pls_DSS_CTRL_filtered.csv\")\n",
    "metabolite(\"2. Filter_CTRL/feci_DSS_CTRL_filtered.csv\")\n"
   ]
  },
  {
   "cell_type": "code",
   "execution_count": null,
   "id": "ef55d07f-8351-4e18-9164-adde91f301cf",
   "metadata": {},
   "outputs": [],
   "source": []
  }
 ],
 "metadata": {
  "kernelspec": {
   "display_name": "Python [conda env:base] *",
   "language": "python",
   "name": "conda-base-py"
  },
  "language_info": {
   "codemirror_mode": {
    "name": "ipython",
    "version": 3
   },
   "file_extension": ".py",
   "mimetype": "text/x-python",
   "name": "python",
   "nbconvert_exporter": "python",
   "pygments_lexer": "ipython3",
   "version": "3.12.7"
  }
 },
 "nbformat": 4,
 "nbformat_minor": 5
}
