{
 "cells": [
  {
   "cell_type": "code",
   "execution_count": null,
   "id": "3cfc1a2f-68a6-45e6-ab48-27c7a3015fd0",
   "metadata": {},
   "outputs": [
    {
     "name": "stdout",
     "output_type": "stream",
     "text": [
      "Saved 3. Metabolite Pairs/COMBINATIONS_pls_LPS.csv with 178503 metabolite pairs.\n",
      "Saved 3. Metabolite Pairs/COMBINATIONS_feci_LPS.csv with 88831 metabolite pairs.\n",
      "Saved 3. Metabolite Pairs/COMBINATIONS_csf_DSS.csv with 56616 metabolite pairs.\n"
     ]
    }
   ],
   "source": [
    "import os\n",
    "import pandas as pd\n",
    "import itertools\n",
    "import csv\n",
    "from scipy import stats\n",
    "\n",
    "def metabolite(file_name):\n",
    "    # Read without header\n",
    "    filtered_data = pd.read_csv(file_name, header=None)\n",
    "    \n",
    "    # Extract metabolite names (skip the first 2 rows if header/labels)\n",
    "    names = filtered_data.iloc[2:, 0].tolist()\n",
    "        \n",
    "    # Generate all 2-element combinations\n",
    "    pairs = list(itertools.combinations(names, 2))\n",
    "    \n",
    "    results = []\n",
    "    \n",
    "    for met1, met2 in pairs:           \n",
    "        # Find the row where the first column equals met1\n",
    "        l1 = filtered_data[filtered_data.iloc[:, 0] == met1]\n",
    "        list1 = l1.iloc[:, 1:]\n",
    "    \n",
    "        # Find the row where the first column equals met2\n",
    "        l2 = filtered_data[filtered_data.iloc[:, 0] == met2]\n",
    "        list2 = l2.iloc[:, 1:]\n",
    "             \n",
    "        # Convert to float\n",
    "        row1 = list1.astype(float).values.flatten().tolist()\n",
    "        row2 = list2.astype(float).values.flatten().tolist()\n",
    "    \n",
    "        # Calculate Spearman correlation\n",
    "        corr, pval = stats.spearmanr(row1, row2)\n",
    "            \n",
    "        # Append names + correlation + p-value\n",
    "        results.append((met1, met2, corr, pval))\n",
    "    \n",
    "    # Build output file name inside \"Metabolite Pairs\"\n",
    "    parts = os.path.basename(file_name).split(\"_\")\n",
    "    prefix = \"_\".join(parts[:2])  # e.g. 'pls_DSS'\n",
    "    \n",
    "    output_folder = \"3. Metabolite Pairs\"\n",
    "    os.makedirs(output_folder, exist_ok=True)\n",
    "    \n",
    "    output_file = os.path.join(output_folder, f\"COMBINATIONS_{prefix}.csv\")\n",
    "    \n",
    "    with open(output_file, \"w\", newline='', encoding=\"utf-8\") as outfile:\n",
    "        writer = csv.writer(outfile)\n",
    "        writer.writerow([\"Metabolite 1\", \"Metabolite 2\", \"Spearman Coefficient\", \"p-value\"])\n",
    "        writer.writerows(results)\n",
    "\n",
    "    print(f\"Saved {output_file} with {len(results)} metabolite pairs.\")\n",
    "\n",
    "# Example calls\n",
    "metabolite(\"2. Filter_CTRL/csf_VECPAC_CTRL_filtered.csv\")\n",
    "metabolite(\"2. Filter_CTRL/pls_VECPAC_CTRL_filtered.csv\")\n",
    "metabolite(\"2. Filter_CTRL/feci_VECPAC_CTRL_filtered.csv\")\n",
    "metabolite(\"2. Filter_CTRL/csf_LPS_CTRL_filtered.csv\")\n",
    "metabolite(\"2. Filter_CTRL/pls_LPS_CTRL_filtered.csv\")\n",
    "metabolite(\"2. Filter_CTRL/feci_LPS_CTRL_filtered.csv\")\n",
    "metabolite(\"2. Filter_CTRL/csf_DSS_CTRL_filtered.csv\")\n",
    "metabolite(\"2. Filter_CTRL/pls_DSS_CTRL_filtered.csv\")\n",
    "metabolite(\"2. Filter_CTRL/feci_DSS_CTRL_filtered.csv\")\n"
   ]
  },
  {
   "cell_type": "code",
   "execution_count": null,
   "id": "ef55d07f-8351-4e18-9164-adde91f301cf",
   "metadata": {},
   "outputs": [],
   "source": []
  }
 ],
 "metadata": {
  "kernelspec": {
   "display_name": "Python [conda env:base] *",
   "language": "python",
   "name": "conda-base-py"
  },
  "language_info": {
   "codemirror_mode": {
    "name": "ipython",
    "version": 3
   },
   "file_extension": ".py",
   "mimetype": "text/x-python",
   "name": "python",
   "nbconvert_exporter": "python",
   "pygments_lexer": "ipython3",
   "version": "3.12.7"
  }
 },
 "nbformat": 4,
 "nbformat_minor": 5
}
