{
 "cells": [
  {
   "cell_type": "code",
   "execution_count": 20,
   "id": "3cfc1a2f-68a6-45e6-ab48-27c7a3015fd0",
   "metadata": {},
   "outputs": [
    {
     "ename": "KeyboardInterrupt",
     "evalue": "",
     "output_type": "error",
     "traceback": [
      "\u001b[0;31m---------------------------------------------------------------------------\u001b[0m",
      "\u001b[0;31mKeyboardInterrupt\u001b[0m                         Traceback (most recent call last)",
      "Cell \u001b[0;32mIn[20], line 54\u001b[0m\n\u001b[1;32m     51\u001b[0m     \u001b[38;5;28mprint\u001b[39m(\u001b[38;5;124mf\u001b[39m\u001b[38;5;124m\"\u001b[39m\u001b[38;5;124mSaved \u001b[39m\u001b[38;5;132;01m{\u001b[39;00moutput_file\u001b[38;5;132;01m}\u001b[39;00m\u001b[38;5;124m with \u001b[39m\u001b[38;5;132;01m{\u001b[39;00m\u001b[38;5;28mlen\u001b[39m(results)\u001b[38;5;132;01m}\u001b[39;00m\u001b[38;5;124m metabolite pairs.\u001b[39m\u001b[38;5;124m\"\u001b[39m)\n\u001b[1;32m     53\u001b[0m \u001b[38;5;66;03m# Example calls\u001b[39;00m\n\u001b[0;32m---> 54\u001b[0m metabolite(\u001b[38;5;124m\"\u001b[39m\u001b[38;5;124m2. Filter_CTRL/csf_VECPAC_CTRL_filtered.csv\u001b[39m\u001b[38;5;124m\"\u001b[39m)\n\u001b[1;32m     55\u001b[0m metabolite(\u001b[38;5;124m\"\u001b[39m\u001b[38;5;124m2. Filter_CTRL/pls_VECPAC_CTRL_filtered.csv\u001b[39m\u001b[38;5;124m\"\u001b[39m)\n\u001b[1;32m     56\u001b[0m metabolite(\u001b[38;5;124m\"\u001b[39m\u001b[38;5;124m2. Filter_CTRL/feci_VECPAC_CTRL_filtered.csv\u001b[39m\u001b[38;5;124m\"\u001b[39m)\n",
      "Cell \u001b[0;32mIn[20], line 32\u001b[0m, in \u001b[0;36mmetabolite\u001b[0;34m(file_name)\u001b[0m\n\u001b[1;32m     29\u001b[0m row2 \u001b[38;5;241m=\u001b[39m list2\u001b[38;5;241m.\u001b[39mastype(\u001b[38;5;28mfloat\u001b[39m)\u001b[38;5;241m.\u001b[39mvalues\u001b[38;5;241m.\u001b[39mflatten()\u001b[38;5;241m.\u001b[39mtolist()\n\u001b[1;32m     31\u001b[0m \u001b[38;5;66;03m# Calculate Spearman correlation\u001b[39;00m\n\u001b[0;32m---> 32\u001b[0m corr, pval \u001b[38;5;241m=\u001b[39m stats\u001b[38;5;241m.\u001b[39mspearmanr(row1, row2)\n\u001b[1;32m     34\u001b[0m \u001b[38;5;66;03m# Append metabolite names + correlation + p-value\u001b[39;00m\n\u001b[1;32m     35\u001b[0m results\u001b[38;5;241m.\u001b[39mappend((met1, met2, corr, pval))\n",
      "File \u001b[0;32m/opt/anaconda3/lib/python3.12/site-packages/scipy/stats/_stats_py.py:5432\u001b[0m, in \u001b[0;36mspearmanr\u001b[0;34m(a, b, axis, nan_policy, alternative)\u001b[0m\n\u001b[1;32m   5427\u001b[0m \u001b[38;5;28;01mwith\u001b[39;00m np\u001b[38;5;241m.\u001b[39merrstate(divide\u001b[38;5;241m=\u001b[39m\u001b[38;5;124m'\u001b[39m\u001b[38;5;124mignore\u001b[39m\u001b[38;5;124m'\u001b[39m):\n\u001b[1;32m   5428\u001b[0m     \u001b[38;5;66;03m# clip the small negative values possibly caused by rounding\u001b[39;00m\n\u001b[1;32m   5429\u001b[0m     \u001b[38;5;66;03m# errors before taking the square root\u001b[39;00m\n\u001b[1;32m   5430\u001b[0m     t \u001b[38;5;241m=\u001b[39m rs \u001b[38;5;241m*\u001b[39m np\u001b[38;5;241m.\u001b[39msqrt((dof\u001b[38;5;241m/\u001b[39m((rs\u001b[38;5;241m+\u001b[39m\u001b[38;5;241m1.0\u001b[39m)\u001b[38;5;241m*\u001b[39m(\u001b[38;5;241m1.0\u001b[39m\u001b[38;5;241m-\u001b[39mrs)))\u001b[38;5;241m.\u001b[39mclip(\u001b[38;5;241m0\u001b[39m))\n\u001b[0;32m-> 5432\u001b[0m prob \u001b[38;5;241m=\u001b[39m _get_pvalue(t, distributions\u001b[38;5;241m.\u001b[39mt(dof), alternative)\n\u001b[1;32m   5434\u001b[0m \u001b[38;5;66;03m# For backwards compatibility, return scalars when comparing 2 columns\u001b[39;00m\n\u001b[1;32m   5435\u001b[0m \u001b[38;5;28;01mif\u001b[39;00m rs\u001b[38;5;241m.\u001b[39mshape \u001b[38;5;241m==\u001b[39m (\u001b[38;5;241m2\u001b[39m, \u001b[38;5;241m2\u001b[39m):\n",
      "File \u001b[0;32m/opt/anaconda3/lib/python3.12/site-packages/scipy/stats/_distn_infrastructure.py:851\u001b[0m, in \u001b[0;36mrv_generic.__call__\u001b[0;34m(self, *args, **kwds)\u001b[0m\n\u001b[1;32m    850\u001b[0m \u001b[38;5;28;01mdef\u001b[39;00m \u001b[38;5;21m__call__\u001b[39m(\u001b[38;5;28mself\u001b[39m, \u001b[38;5;241m*\u001b[39margs, \u001b[38;5;241m*\u001b[39m\u001b[38;5;241m*\u001b[39mkwds):\n\u001b[0;32m--> 851\u001b[0m     \u001b[38;5;28;01mreturn\u001b[39;00m \u001b[38;5;28mself\u001b[39m\u001b[38;5;241m.\u001b[39mfreeze(\u001b[38;5;241m*\u001b[39margs, \u001b[38;5;241m*\u001b[39m\u001b[38;5;241m*\u001b[39mkwds)\n",
      "File \u001b[0;32m/opt/anaconda3/lib/python3.12/site-packages/scipy/stats/_distn_infrastructure.py:846\u001b[0m, in \u001b[0;36mrv_generic.freeze\u001b[0;34m(self, *args, **kwds)\u001b[0m\n\u001b[1;32m    831\u001b[0m \u001b[38;5;250m\u001b[39m\u001b[38;5;124;03m\"\"\"Freeze the distribution for the given arguments.\u001b[39;00m\n\u001b[1;32m    832\u001b[0m \n\u001b[1;32m    833\u001b[0m \u001b[38;5;124;03mParameters\u001b[39;00m\n\u001b[0;32m   (...)\u001b[0m\n\u001b[1;32m    843\u001b[0m \n\u001b[1;32m    844\u001b[0m \u001b[38;5;124;03m\"\"\"\u001b[39;00m\n\u001b[1;32m    845\u001b[0m \u001b[38;5;28;01mif\u001b[39;00m \u001b[38;5;28misinstance\u001b[39m(\u001b[38;5;28mself\u001b[39m, rv_continuous):\n\u001b[0;32m--> 846\u001b[0m     \u001b[38;5;28;01mreturn\u001b[39;00m rv_continuous_frozen(\u001b[38;5;28mself\u001b[39m, \u001b[38;5;241m*\u001b[39margs, \u001b[38;5;241m*\u001b[39m\u001b[38;5;241m*\u001b[39mkwds)\n\u001b[1;32m    847\u001b[0m \u001b[38;5;28;01melse\u001b[39;00m:\n\u001b[1;32m    848\u001b[0m     \u001b[38;5;28;01mreturn\u001b[39;00m rv_discrete_frozen(\u001b[38;5;28mself\u001b[39m, \u001b[38;5;241m*\u001b[39margs, \u001b[38;5;241m*\u001b[39m\u001b[38;5;241m*\u001b[39mkwds)\n",
      "File \u001b[0;32m/opt/anaconda3/lib/python3.12/site-packages/scipy/stats/_distn_infrastructure.py:465\u001b[0m, in \u001b[0;36mrv_frozen.__init__\u001b[0;34m(self, dist, *args, **kwds)\u001b[0m\n\u001b[1;32m    462\u001b[0m \u001b[38;5;28mself\u001b[39m\u001b[38;5;241m.\u001b[39mkwds \u001b[38;5;241m=\u001b[39m kwds\n\u001b[1;32m    464\u001b[0m \u001b[38;5;66;03m# create a new instance\u001b[39;00m\n\u001b[0;32m--> 465\u001b[0m \u001b[38;5;28mself\u001b[39m\u001b[38;5;241m.\u001b[39mdist \u001b[38;5;241m=\u001b[39m dist\u001b[38;5;241m.\u001b[39m\u001b[38;5;18m__class__\u001b[39m(\u001b[38;5;241m*\u001b[39m\u001b[38;5;241m*\u001b[39mdist\u001b[38;5;241m.\u001b[39m_updated_ctor_param())\n\u001b[1;32m    467\u001b[0m shapes, _, _ \u001b[38;5;241m=\u001b[39m \u001b[38;5;28mself\u001b[39m\u001b[38;5;241m.\u001b[39mdist\u001b[38;5;241m.\u001b[39m_parse_args(\u001b[38;5;241m*\u001b[39margs, \u001b[38;5;241m*\u001b[39m\u001b[38;5;241m*\u001b[39mkwds)\n\u001b[1;32m    468\u001b[0m \u001b[38;5;28mself\u001b[39m\u001b[38;5;241m.\u001b[39ma, \u001b[38;5;28mself\u001b[39m\u001b[38;5;241m.\u001b[39mb \u001b[38;5;241m=\u001b[39m \u001b[38;5;28mself\u001b[39m\u001b[38;5;241m.\u001b[39mdist\u001b[38;5;241m.\u001b[39m_get_support(\u001b[38;5;241m*\u001b[39mshapes)\n",
      "File \u001b[0;32m/opt/anaconda3/lib/python3.12/site-packages/scipy/stats/_distn_infrastructure.py:1830\u001b[0m, in \u001b[0;36mrv_continuous.__init__\u001b[0;34m(self, momtype, a, b, xtol, badvalue, name, longname, shapes, seed)\u001b[0m\n\u001b[1;32m   1827\u001b[0m \u001b[38;5;28mself\u001b[39m\u001b[38;5;241m.\u001b[39mmoment_type \u001b[38;5;241m=\u001b[39m momtype\n\u001b[1;32m   1828\u001b[0m \u001b[38;5;28mself\u001b[39m\u001b[38;5;241m.\u001b[39mshapes \u001b[38;5;241m=\u001b[39m shapes\n\u001b[0;32m-> 1830\u001b[0m \u001b[38;5;28mself\u001b[39m\u001b[38;5;241m.\u001b[39m_construct_argparser(meths_to_inspect\u001b[38;5;241m=\u001b[39m[\u001b[38;5;28mself\u001b[39m\u001b[38;5;241m.\u001b[39m_pdf, \u001b[38;5;28mself\u001b[39m\u001b[38;5;241m.\u001b[39m_cdf],\n\u001b[1;32m   1831\u001b[0m                           locscale_in\u001b[38;5;241m=\u001b[39m\u001b[38;5;124m'\u001b[39m\u001b[38;5;124mloc=0, scale=1\u001b[39m\u001b[38;5;124m'\u001b[39m,\n\u001b[1;32m   1832\u001b[0m                           locscale_out\u001b[38;5;241m=\u001b[39m\u001b[38;5;124m'\u001b[39m\u001b[38;5;124mloc, scale\u001b[39m\u001b[38;5;124m'\u001b[39m)\n\u001b[1;32m   1833\u001b[0m \u001b[38;5;28mself\u001b[39m\u001b[38;5;241m.\u001b[39m_attach_methods()\n\u001b[1;32m   1835\u001b[0m \u001b[38;5;28;01mif\u001b[39;00m longname \u001b[38;5;129;01mis\u001b[39;00m \u001b[38;5;28;01mNone\u001b[39;00m:\n",
      "File \u001b[0;32m/opt/anaconda3/lib/python3.12/site-packages/scipy/stats/_distn_infrastructure.py:777\u001b[0m, in \u001b[0;36mrv_generic._construct_argparser\u001b[0;34m(self, meths_to_inspect, locscale_in, locscale_out)\u001b[0m\n\u001b[1;32m    774\u001b[0m \u001b[38;5;66;03m# this string is used by _attach_argparser_methods\u001b[39;00m\n\u001b[1;32m    775\u001b[0m \u001b[38;5;28mself\u001b[39m\u001b[38;5;241m.\u001b[39m_parse_arg_template \u001b[38;5;241m=\u001b[39m parse_arg_template \u001b[38;5;241m%\u001b[39m dct\n\u001b[0;32m--> 777\u001b[0m \u001b[38;5;28mself\u001b[39m\u001b[38;5;241m.\u001b[39mshapes \u001b[38;5;241m=\u001b[39m \u001b[38;5;124m'\u001b[39m\u001b[38;5;124m, \u001b[39m\u001b[38;5;124m'\u001b[39m\u001b[38;5;241m.\u001b[39mjoin(shapes) \u001b[38;5;28;01mif\u001b[39;00m shapes \u001b[38;5;28;01melse\u001b[39;00m \u001b[38;5;28;01mNone\u001b[39;00m\n\u001b[1;32m    778\u001b[0m \u001b[38;5;28;01mif\u001b[39;00m \u001b[38;5;129;01mnot\u001b[39;00m \u001b[38;5;28mhasattr\u001b[39m(\u001b[38;5;28mself\u001b[39m, \u001b[38;5;124m'\u001b[39m\u001b[38;5;124mnumargs\u001b[39m\u001b[38;5;124m'\u001b[39m):\n\u001b[1;32m    779\u001b[0m     \u001b[38;5;66;03m# allows more general subclassing with *args\u001b[39;00m\n\u001b[1;32m    780\u001b[0m     \u001b[38;5;28mself\u001b[39m\u001b[38;5;241m.\u001b[39mnumargs \u001b[38;5;241m=\u001b[39m \u001b[38;5;28mlen\u001b[39m(shapes)\n",
      "\u001b[0;31mKeyboardInterrupt\u001b[0m: "
     ]
    }
   ],
   "source": [
    "import os\n",
    "import pandas as pd\n",
    "import itertools\n",
    "import csv\n",
    "from scipy import stats\n",
    "\n",
    "def metabolite(file_name):\n",
    "    #Read data\n",
    "    filtered_data = pd.read_csv(file_name, header=None)\n",
    "    \n",
    "    # Extract metabolite names. Skip the first 2 rows (headers + Sample IDs)\n",
    "    names = filtered_data.iloc[2:, 0].tolist()\n",
    "        \n",
    "    # Generate all 2-element combinations\n",
    "    pairs = list(itertools.combinations(names, 2))\n",
    "    results = []\n",
    "    \n",
    "    for met1, met2 in pairs:           \n",
    "        # Find the row where the first column = met1\n",
    "        l1 = filtered_data[filtered_data.iloc[:, 0] == met1]\n",
    "        list1 = l1.iloc[:, 1:]\n",
    "    \n",
    "        # Find the row where the first column = met2\n",
    "        l2 = filtered_data[filtered_data.iloc[:, 0] == met2]\n",
    "        list2 = l2.iloc[:, 1:]\n",
    "             \n",
    "        # Converts to float\n",
    "        row1 = list1.astype(float).values.flatten().tolist()\n",
    "        row2 = list2.astype(float).values.flatten().tolist()\n",
    "    \n",
    "        # Calculate Spearman correlation\n",
    "        corr, pval = stats.spearmanr(row1, row2)\n",
    "            \n",
    "        # Append metabolite names + correlation + p-value\n",
    "        results.append((met1, met2, corr, pval))\n",
    "    \n",
    "    # Create output file name inside \"Metabolite Pairs\"\n",
    "    parts = os.path.basename(file_name).split(\"_\")\n",
    "    prefix = \"_\".join(parts[:2])\n",
    "    \n",
    "    output_folder = \"3. Metabolite Pairs\"\n",
    "    os.makedirs(output_folder, exist_ok=True)\n",
    "    \n",
    "    output_file = os.path.join(output_folder, f\"COMBINATIONS_{prefix}.csv\")\n",
    "    \n",
    "    with open(output_file, \"w\", newline='', encoding=\"utf-8\") as outfile:\n",
    "        writer = csv.writer(outfile)\n",
    "        writer.writerow([\"Metabolite 1\", \"Metabolite 2\", \"Spearman Coefficient\", \"p-value\"])\n",
    "        writer.writerows(results)\n",
    "\n",
    "    print(f\"Saved {output_file} with {len(results)} metabolite pairs.\")\n",
    "\n",
    "# Example calls\n",
    "metabolite(\"2. Filter_CTRL/csf_VECPAC_CTRL_filtered.csv\")\n",
    "metabolite(\"2. Filter_CTRL/pls_VECPAC_CTRL_filtered.csv\")\n",
    "metabolite(\"2. Filter_CTRL/feci_VECPAC_CTRL_filtered.csv\")\n",
    "metabolite(\"2. Filter_CTRL/csf_LPS_CTRL_filtered.csv\")\n",
    "metabolite(\"2. Filter_CTRL/pls_LPS_CTRL_filtered.csv\")\n",
    "metabolite(\"2. Filter_CTRL/feci_LPS_CTRL_filtered.csv\")\n",
    "metabolite(\"2. Filter_CTRL/csf_DSS_CTRL_filtered.csv\")\n",
    "metabolite(\"2. Filter_CTRL/pls_DSS_CTRL_filtered.csv\")\n",
    "metabolite(\"2. Filter_CTRL/feci_DSS_CTRL_filtered.csv\")\n"
   ]
  },
  {
   "cell_type": "code",
   "execution_count": null,
   "id": "ef55d07f-8351-4e18-9164-adde91f301cf",
   "metadata": {},
   "outputs": [],
   "source": []
  }
 ],
 "metadata": {
  "kernelspec": {
   "display_name": "Python [conda env:base] *",
   "language": "python",
   "name": "conda-base-py"
  },
  "language_info": {
   "codemirror_mode": {
    "name": "ipython",
    "version": 3
   },
   "file_extension": ".py",
   "mimetype": "text/x-python",
   "name": "python",
   "nbconvert_exporter": "python",
   "pygments_lexer": "ipython3",
   "version": "3.12.7"
  }
 },
 "nbformat": 4,
 "nbformat_minor": 5
}
