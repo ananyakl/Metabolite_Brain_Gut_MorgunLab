{
 "cells": [
  {
   "cell_type": "code",
   "execution_count": 10,
   "id": "cc156b53-1adf-44c1-b36d-e9fcaaf12f44",
   "metadata": {},
   "outputs": [
    {
     "name": "stdout",
     "output_type": "stream",
     "text": [
      "Saved 5. Normalized/pls_DSS_CTRL_normalized.csv\n",
      "Saved 5. Normalized/pls_LPS_CTRL_normalized.csv\n",
      "Saved 5. Normalized/pls_VECPAC_CTRL_normalized.csv\n"
     ]
    }
   ],
   "source": [
    "import os\n",
    "import pandas as pd\n",
    "import numpy as np\n",
    "\n",
    "def NaN_the_zeros(log_file, quant_file):\n",
    "    \n",
    "    # Read files\n",
    "    df_old = pd.read_csv(log_file, header=None)\n",
    "    df_new = pd.read_csv(quant_file, header=None)\n",
    "\n",
    "    # Convert to numbers\n",
    "    df_old_numeric = df_old.iloc[2:, 1:].apply(pd.to_numeric, errors='coerce')\n",
    "    df_new_numeric = df_new.iloc[2:, 1:].apply(pd.to_numeric, errors='coerce')\n",
    "\n",
    "    # Check file dimensions match before masking\n",
    "    if (df_old_numeric.shape != df_new_numeric.shape):\n",
    "        raise ValueError(\"The numeric portions of the two files must have the same shape!\")\n",
    "\n",
    "    # Mask new.csv: if old.csv cell = 0, then new.csv = NaN\n",
    "    df_new_numeric[df_old_numeric == 0] = np.nan\n",
    "\n",
    "    # Put the masked cell back into df_new\n",
    "    df_new.iloc[2:, 1:] = df_new_numeric\n",
    "\n",
    "    # Create output directory + output file path\n",
    "    os.makedirs(\"5. Normalized\", exist_ok=True)\n",
    "    # Get base name\n",
    "    base_name = os.path.basename(quant_file)\n",
    "    name, ext = os.path.splitext(base_name)\n",
    "    words = name.split('_')\n",
    "    if len(words) >= 3:\n",
    "        name_trimmed = '_'.join(words[:3])  # keep first three parts\n",
    "    else:\n",
    "        name_trimmed = words\n",
    "    output_file = os.path.join(\"5. Normalized\", f\"{name_trimmed}_normalized.csv\")\n",
    "    \n",
    "    # Save new masked file\n",
    "    df_new.to_csv(output_file, index=False, header=False)\n",
    "    print(f\"Saved {output_file}\")\n",
    "\n",
    "\n",
    "# ------------- Run -------------\n",
    "NaN_the_zeros(\"./3. Logarithm/pls_DSS_CTRL_filtered_log_x+1.csv\",\n",
    "              \"./4. Quantile/pls_DSS_CTRL_filtered_log_x+1_quantile.csv\")\n",
    "NaN_the_zeros(\"./3. Logarithm/pls_LPS_CTRL_filtered_log_x+1.csv\",\n",
    "              \"./4. Quantile/pls_LPS_CTRL_filtered_log_x+1_quantile.csv\")\n",
    "NaN_the_zeros(\"./3. Logarithm/pls_VECPAC_CTRL_filtered_log_x+1.csv\",\n",
    "              \"./4. Quantile/pls_VECPAC_CTRL_filtered_log_x+1_quantile.csv\")"
   ]
  },
  {
   "cell_type": "code",
   "execution_count": null,
   "id": "1fc49d94-bd17-4878-9c44-194da79bdf63",
   "metadata": {},
   "outputs": [],
   "source": []
  }
 ],
 "metadata": {
  "kernelspec": {
   "display_name": "Python [conda env:base] *",
   "language": "python",
   "name": "conda-base-py"
  },
  "language_info": {
   "codemirror_mode": {
    "name": "ipython",
    "version": 3
   },
   "file_extension": ".py",
   "mimetype": "text/x-python",
   "name": "python",
   "nbconvert_exporter": "python",
   "pygments_lexer": "ipython3",
   "version": "3.12.7"
  }
 },
 "nbformat": 4,
 "nbformat_minor": 5
}
