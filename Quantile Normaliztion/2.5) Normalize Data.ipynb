{
 "cells": [
  {
   "cell_type": "code",
   "execution_count": 3,
   "id": "5bd78ef2-2342-4d2b-8c16-186203920f3d",
   "metadata": {},
   "outputs": [
    {
     "name": "stdout",
     "output_type": "stream",
     "text": [
      "Saved 3. Logarithm/pls_DSS_CTRL_filtered_log_x+1.csv\n",
      "Saved 3. Logarithm/pls_LPS_CTRL_filtered_log_x+1.csv\n",
      "Saved 3. Logarithm/pls_VECPAC_CTRL_filtered_log_x+1.csv\n"
     ]
    }
   ],
   "source": [
    "import os\n",
    "import pandas as pd\n",
    "import numpy as np\n",
    "\n",
    "def logarithm(file_name):\n",
    "    # Read the CSV file\n",
    "    df = pd.read_csv(file_name, header=None)\n",
    "\n",
    "    # Select rows 3+, columns 2+\n",
    "    numeric_part = df.iloc[2:, 1:]\n",
    "\n",
    "    # Convert to numbers\n",
    "    numeric_part = numeric_part.apply(pd.to_numeric, errors='coerce')\n",
    "\n",
    "    # Apply log base 2 (x+1)\n",
    "    numeric_part = np.log2(numeric_part + 1)\n",
    "\n",
    "    # Put the transformed data back into the DataFrame\n",
    "    df.iloc[2:, 1:] = numeric_part\n",
    "\n",
    "    # Create output directory + output file path\n",
    "    os.makedirs(\"3. Logarithm\", exist_ok=True)\n",
    "    base_name = os.path.basename(file_name)\n",
    "    name, ext = os.path.splitext(base_name)\n",
    "    new_file = os.path.join(\"3. Logarithm\", f\"{name}_log_x+1.csv\")\n",
    "\n",
    "    # Save\n",
    "    df.to_csv(new_file, index=False, header=False)\n",
    "    print(f\"Saved {new_file}\")\n",
    "\n",
    "# ------------- Run -------------\n",
    "logarithm(\"./2. Filter_CTRL/pls_DSS_CTRL_filtered.csv\")\n",
    "logarithm(\"./2. Filter_CTRL/pls_LPS_CTRL_filtered.csv\")\n",
    "logarithm(\"./2. Filter_CTRL/pls_VECPAC_CTRL_filtered.csv\")"
   ]
  },
  {
   "cell_type": "code",
   "execution_count": null,
   "id": "02e99710-50c9-4acd-b34f-aee4d56e24e2",
   "metadata": {},
   "outputs": [],
   "source": []
  }
 ],
 "metadata": {
  "kernelspec": {
   "display_name": "Python [conda env:base] *",
   "language": "python",
   "name": "conda-base-py"
  },
  "language_info": {
   "codemirror_mode": {
    "name": "ipython",
    "version": 3
   },
   "file_extension": ".py",
   "mimetype": "text/x-python",
   "name": "python",
   "nbconvert_exporter": "python",
   "pygments_lexer": "ipython3",
   "version": "3.12.7"
  }
 },
 "nbformat": 4,
 "nbformat_minor": 5
}
