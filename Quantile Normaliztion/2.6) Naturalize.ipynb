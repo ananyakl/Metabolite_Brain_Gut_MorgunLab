{
 "cells": [
  {
   "cell_type": "code",
   "execution_count": null,
   "id": "4c7e1f3f-8b0a-4fad-bac9-96cd772e26ae",
   "metadata": {},
   "outputs": [],
   "source": [
    "import pandas as pd\n",
    "import qnorm\n",
    "import os\n",
    "import numpy as np\n",
    "\n",
    "def quantile(file_name):\n",
    "    # Read the CSV file\n",
    "    df = pd.read_csv(file_name, header=None)\n",
    "\n",
    "    # Select rows 3+, columns 2+\n",
    "    numeric_part = df.iloc[2:, 1:]\n",
    "\n",
    "    # Convert to numbers\n",
    "    numeric_part = numeric_part.apply(pd.to_numeric, errors='coerce')\n",
    "\n",
    "    # APPLY QUANTILE NORMALIZATION\n",
    "    quantized_part = qnorm.quantile_normalize(numeric_part, axis=1)\n",
    "\n",
    "    # Put the transformed data back into the DataFrame\n",
    "    df.iloc[2:, 1:] = quantized_part\n",
    "\n",
    "    # Create output directory + output file path\n",
    "    os.makedirs(\"4. Quantile\", exist_ok=True)\n",
    "    base_name = os.path.basename(file_name)\n",
    "    name, ext = os.path.splitext(base_name)\n",
    "    new_file = os.path.join(\"4. Quantile\", f\"{name}_quantile.csv\")\n",
    "\n",
    "    # Save\n",
    "    df.to_csv(new_file, index=False, header=False)\n",
    "    print(f\"Saved {new_file}\")\n",
    "\n",
    "# ------------- Run -------------\n",
    "quantile(\"./3. Logarithm/pls_DSS_CTRL_filtered_log_x+1.csv\")\n",
    "quantile(\"./3. Logarithm/pls_LPS_CTRL_filtered_log_x+1.csv\")\n",
    "quantile(\"./3. Logarithm/pls_VECPAC_CTRL_filtered_log_x+1.csv\")"
   ]
  },
  {
   "cell_type": "code",
   "execution_count": null,
   "id": "2d06cc02-1ad8-4d04-9183-c6072bafb9c6",
   "metadata": {},
   "outputs": [],
   "source": []
  }
 ],
 "metadata": {
  "kernelspec": {
   "display_name": "Python [conda env:base] *",
   "language": "python",
   "name": "conda-base-py"
  },
  "language_info": {
   "codemirror_mode": {
    "name": "ipython",
    "version": 3
   },
   "file_extension": ".py",
   "mimetype": "text/x-python",
   "name": "python",
   "nbconvert_exporter": "python",
   "pygments_lexer": "ipython3",
   "version": "3.12.7"
  }
 },
 "nbformat": 4,
 "nbformat_minor": 5
}
