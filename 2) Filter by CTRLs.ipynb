{
 "cells": [
  {
   "cell_type": "code",
   "execution_count": 22,
   "id": "42465134-7393-424b-aee0-f96fdeebccbf",
   "metadata": {},
   "outputs": [],
   "source": [
    "import numpy as np\n",
    "import pandas as pd\n",
    "\n",
    "import pylab as plt\n",
    "import matplotlib.pyplot as plt\n",
    "import seaborn as sns\n",
    "import math\n",
    "import os\n",
    "import itertools\n",
    "import numpy as np\n",
    "from scipy import stats\n",
    "import csv"
   ]
  },
  {
   "cell_type": "code",
   "execution_count": 26,
   "id": "5e1f1729-a7a9-4a49-ae0b-93f06fe6ec83",
   "metadata": {},
   "outputs": [
    {
     "name": "stdout",
     "output_type": "stream",
     "text": [
      "[VECPAC_CTRL] Saved 2. Filter_CTRL/feci_VECPAC_CTRL_filtered.csv with 20 columns\n",
      "[LPS_CTRL] Saved 2. Filter_CTRL/feci_LPS_CTRL_filtered.csv with 7 columns\n",
      "[DSS_T0] Saved 2. Filter_CTRL/feci_DSS_CTRL_filtered.csv with 15 columns\n",
      "[LPS_CTRL] Saved 2. Filter_CTRL/pls_LPS_CTRL_filtered.csv with 8 columns\n",
      "[VECPAC_CTRL] Saved 2. Filter_CTRL/pls_VECPAC_CTRL_filtered.csv with 20 columns\n",
      "[DSS_T0] Saved 2. Filter_CTRL/pls_DSS_CTRL_filtered.csv with 15 columns\n",
      "[LPS_CTRL] Saved 2. Filter_CTRL/csf_LPS_CTRL_filtered.csv with 10 columns\n",
      "[VECPAC CTRL] Saved 2. Filter_CTRL/csf_VECPAC_CTRL_filtered.csv with 6 columns\n",
      "[DSS_T0] Saved 2. Filter_CTRL/csf_DSS_CTRL_filtered.csv with 8 columns\n"
     ]
    }
   ],
   "source": [
    "import os\n",
    "import pandas as pd\n",
    "\n",
    "def filter_by_group(input_file, output_file, group_label):\n",
    "    # Ensure output directory exists\n",
    "    os.makedirs(os.path.dirname(output_file), exist_ok=True)\n",
    "\n",
    "    df = pd.read_csv(input_file, header=None)\n",
    "    second_row = df.iloc[1]\n",
    "    \n",
    "    # Find columns that match the control group\n",
    "    columns_to_keep = [i for i, val in enumerate(second_row) if val == group_label]\n",
    "    \n",
    "    # Always keep first column (metabolite/sample IDs)\n",
    "    columns_to_keep = sorted(set([0] + columns_to_keep))\n",
    "    \n",
    "    # Save filtered dataset\n",
    "    filtered_df = df.iloc[:, columns_to_keep]\n",
    "    filtered_df.to_csv(output_file, index=False, header=False)\n",
    "    print(f\"[{group_label}] Saved {output_file} with {len(columns_to_keep)} columns\")\n",
    "\n",
    "\n",
    "# Create output folder name\n",
    "output_folder = \"2. Filter_CTRL\"\n",
    "\n",
    "# Run for Feci\n",
    "filter_by_group(\"./1. Filtered Data/feci_filtered.csv\", f\"{output_folder}/feci_VECPAC_CTRL_filtered.csv\", \"VECPAC_CTRL\")\n",
    "filter_by_group(\"./1. Filtered Data/feci_filtered.csv\", f\"{output_folder}/feci_LPS_CTRL_filtered.csv\", \"LPS_CTRL\")\n",
    "filter_by_group(\"./1. Filtered Data/feci_filtered.csv\", f\"{output_folder}/feci_DSS_CTRL_filtered.csv\", \"DSS_T0\")\n",
    "\n",
    "# Run for PLS\n",
    "filter_by_group(\"./1. Filtered Data/pls_filtered.csv\", f\"{output_folder}/pls_LPS_CTRL_filtered.csv\", \"LPS_CTRL\")\n",
    "filter_by_group(\"./1. Filtered Data/pls_filtered.csv\", f\"{output_folder}/pls_VECPAC_CTRL_filtered.csv\", \"VECPAC_CTRL\")\n",
    "filter_by_group(\"./1. Filtered Data/pls_filtered.csv\", f\"{output_folder}/pls_DSS_CTRL_filtered.csv\", \"DSS_T0\")\n",
    "\n",
    "# Run for CSF\n",
    "filter_by_group(\"./1. Filtered Data/csf_filtered.csv\", f\"{output_folder}/csf_LPS_CTRL_filtered.csv\", \"LPS_CTRL\")\n",
    "filter_by_group(\"./1. Filtered Data/csf_filtered.csv\", f\"{output_folder}/csf_VECPAC_CTRL_filtered.csv\", \"VECPAC CTRL\")\n",
    "filter_by_group(\"./1. Filtered Data/csf_filtered.csv\", f\"{output_folder}/csf_DSS_CTRL_filtered.csv\", \"DSS_T0\")"
   ]
  },
  {
   "cell_type": "code",
   "execution_count": null,
   "id": "81d656c3-bd90-4f5b-84cd-ae2218f4f461",
   "metadata": {},
   "outputs": [],
   "source": []
  }
 ],
 "metadata": {
  "kernelspec": {
   "display_name": "Python [conda env:base] *",
   "language": "python",
   "name": "conda-base-py"
  },
  "language_info": {
   "codemirror_mode": {
    "name": "ipython",
    "version": 3
   },
   "file_extension": ".py",
   "mimetype": "text/x-python",
   "name": "python",
   "nbconvert_exporter": "python",
   "pygments_lexer": "ipython3",
   "version": "3.12.7"
  }
 },
 "nbformat": 4,
 "nbformat_minor": 5
}
