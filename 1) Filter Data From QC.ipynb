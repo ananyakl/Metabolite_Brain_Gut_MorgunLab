{
 "cells": [
  {
   "cell_type": "code",
   "execution_count": 3,
   "id": "8ce4051f-5371-455e-ad22-7bf6fc817b06",
   "metadata": {},
   "outputs": [],
   "source": [
    "import numpy as np\n",
    "import pandas as pd\n",
    "\n",
    "import pylab as plt\n",
    "import matplotlib.pyplot as plt\n",
    "import seaborn as sns\n",
    "import math\n",
    "import os\n",
    "import itertools"
   ]
  },
  {
   "cell_type": "code",
   "execution_count": 6,
   "id": "56eac8fd-4843-4217-9452-e8ee5e9c881e",
   "metadata": {},
   "outputs": [],
   "source": [
    "csf_data = pd.read_csv(\"./0. Original Files/CSF_normalized.csv\",header=None)\n",
    "feci_data = pd.read_csv(\"./0. Original Files/feci_normalized.csv\",header=None)\n",
    "pls_data = pd.read_csv(\"./0. Original Files/PLS_normalized.csv\",header=None)\n",
    "\n",
    "filtered_pls = pd.read_csv(\"./0. Original Files/Filtered Metabolomics - Plasma.csv\",header=None)\n",
    "filtered_feci = pd.read_csv(\"./0. Original Files/Filtered Metabolomics - Feci.csv\",header=None)\n",
    "filtered_csf = pd.read_csv(\"./0. Original Files/Filtered Metabolomics - CSF.csv\",header=None)"
   ]
  },
  {
   "cell_type": "code",
   "execution_count": 8,
   "id": "65e43d4e-41e1-4af6-911a-614e5694e138",
   "metadata": {},
   "outputs": [
    {
     "name": "stdout",
     "output_type": "stream",
     "text": [
      "\n",
      "--- PLS Data ---\n",
      "Original # of columns: 142\n",
      "QC KEEP rows: 118\n",
      "Saved 1. Filtered Data/pls_filtered.csv\n",
      "\n",
      "--- CSF Data ---\n",
      "Original # of columns: 83\n",
      "QC KEEP rows: 50\n",
      "Saved 1. Filtered Data/csf_filtered.csv\n",
      "\n",
      "--- Feci Data ---\n",
      "Original # of columns: 124\n",
      "QC KEEP rows: 113\n",
      "Saved 1. Filtered Data/feci_filtered.csv\n"
     ]
    }
   ],
   "source": [
    "def filter_metabolomics(data, filtered_qc, out_file, label):\n",
    "    # make sure output directory exists\n",
    "    os.makedirs(os.path.dirname(out_file), exist_ok=True)\n",
    "    \n",
    "    # First row of original data = feature_id\n",
    "    first_row = data.iloc[0, :]\n",
    "    print(f\"{label} Data\")\n",
    "    print(\"Original # of columns:\", len(first_row))\n",
    "    \n",
    "    # QC data - keep only rows marked \"Keep\"\n",
    "    filtered_keep = filtered_qc[filtered_qc[3] == \"Keep\"]\n",
    "    print(\"QC KEEP rows:\", len(filtered_keep))\n",
    "\n",
    "    # Map feature_id: new_class\n",
    "    class_to_replace = dict(zip(filtered_keep[0], filtered_keep[5]))\n",
    "\n",
    "    # Find matching columns\n",
    "    columns_to_keep = []\n",
    "    for i, val in enumerate(first_row.values):\n",
    "        if val in filtered_keep[0].values:\n",
    "            columns_to_keep.append(i)\n",
    "\n",
    "    # Keeps row 0 (samplie IDs)\n",
    "    columns_to_keep = sorted(set([0] + columns_to_keep))\n",
    "    # Copy Data\n",
    "    data_filtered = data.iloc[:, columns_to_keep].copy()\n",
    "\n",
    "    # Replace second row with new class if available\n",
    "    replacements = 0\n",
    "    for sid in data_filtered.columns:\n",
    "        # id in row 0\n",
    "        feature_name = data_filtered.loc[0, sid] \n",
    "        # current value in row 1\n",
    "        old_val = data_filtered.loc[1, sid] \n",
    "        new_val = class_to_replace.get(feature_name, old_val)\n",
    "        if new_val != old_val:\n",
    "            replacements += 1\n",
    "        # update row 1\n",
    "        data_filtered.loc[1, sid] = new_val \n",
    "\n",
    "    # Save result\n",
    "    data_filtered.to_csv(out_file, index=False, header=False)\n",
    "    print(f\"Saved {out_file}\")\n",
    "\n",
    "    return data_filtered\n",
    "\n",
    "# Run for PLS, CSF and Feci\n",
    "pls_data_filtered  = filter_metabolomics(pls_data,  filtered_pls,  os.path.join(\"1. Filtered Data\", \"pls_filtered.csv\"),  \"PLS\")\n",
    "csf_data_filtered  = filter_metabolomics(csf_data,  filtered_csf,  os.path.join(\"1. Filtered Data\", \"csf_filtered.csv\"),  \"CSF\")\n",
    "feci_data_filtered = filter_metabolomics(feci_data, filtered_feci, os.path.join(\"1. Filtered Data\", \"feci_filtered.csv\"), \"Feci\")\n"
   ]
  },
  {
   "cell_type": "code",
   "execution_count": null,
   "id": "71b4be3e-b3f4-489b-b028-16689fbc9f8e",
   "metadata": {},
   "outputs": [],
   "source": []
  }
 ],
 "metadata": {
  "kernelspec": {
   "display_name": "Python [conda env:base] *",
   "language": "python",
   "name": "conda-base-py"
  },
  "language_info": {
   "codemirror_mode": {
    "name": "ipython",
    "version": 3
   },
   "file_extension": ".py",
   "mimetype": "text/x-python",
   "name": "python",
   "nbconvert_exporter": "python",
   "pygments_lexer": "ipython3",
   "version": "3.12.7"
  }
 },
 "nbformat": 4,
 "nbformat_minor": 5
}
